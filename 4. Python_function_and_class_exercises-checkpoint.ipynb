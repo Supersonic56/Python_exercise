{
 "cells": [
  {
   "cell_type": "code",
   "execution_count": 3,
   "metadata": {},
   "outputs": [
    {
     "name": "stdout",
     "output_type": "stream",
     "text": [
      "go to sleep!\n"
     ]
    }
   ],
   "source": [
    "age = 4\n",
    "if age >= 19:\n",
    "    print(\"get in!\")\n",
    "elif age<= 5:\n",
    "    print(\"go to sleep!\")\n",
    "else: \n",
    "    print('you are too young')"
   ]
  },
  {
   "cell_type": "code",
   "execution_count": 5,
   "metadata": {},
   "outputs": [
    {
     "name": "stdout",
     "output_type": "stream",
     "text": [
      "15\n",
      "16\n",
      "17\n",
      "18\n"
     ]
    }
   ],
   "source": [
    "x = 15\n",
    "while x <= 18:\n",
    "    print(x)\n",
    "    x+=1"
   ]
  },
  {
   "cell_type": "code",
   "execution_count": 6,
   "metadata": {},
   "outputs": [
    {
     "name": "stdout",
     "output_type": "stream",
     "text": [
      "what you want to eategg\n",
      "egg\n",
      "what you want to eatbanana\n",
      "banana\n",
      "what you want to eatchoco\n",
      "choco\n",
      "what you want to eatobergine\n",
      "obergine\n",
      "what you want to eatcake\n",
      "cake\n",
      "what you want to eaticecream\n",
      "icecream\n",
      "what you want to eatcoffee\n",
      "coffee\n",
      "what you want to eatquit\n",
      "quit\n"
     ]
    }
   ],
   "source": [
    "msg = \"\"\n",
    "while msg !=\"quit\":\n",
    "    msg = input(\"what you want to eat\")\n",
    "    print(msg)"
   ]
  },
  {
   "cell_type": "code",
   "execution_count": 8,
   "metadata": {},
   "outputs": [
    {
     "name": "stdout",
     "output_type": "stream",
     "text": [
      "Parrot is fu\n"
     ]
    }
   ],
   "source": [
    "def my_f():\n",
    "    global x\n",
    "    x = \"fu\"\n",
    "my_f()\n",
    "print(\"Parrot is \" + x)"
   ]
  },
  {
   "cell_type": "code",
   "execution_count": 7,
   "metadata": {},
   "outputs": [
    {
     "name": "stdout",
     "output_type": "stream",
     "text": [
      "my apple is red and expires on 9-9-2025\n"
     ]
    }
   ],
   "source": [
    "class Fruit:\n",
    "    def __init__(self, name, color, expiry):\n",
    "        self.name = name\n",
    "        self.color = color\n",
    "        self.expiry = expiry\n",
    "    \n",
    "    def details(self):\n",
    "        print(\"my \" + self.name + \" is \" + self.color + \" and expires on \" + self.expiry)\n",
    "        \n",
    "apple = Fruit(\"apple\",\"red\",\"9-9-2025\")\n",
    "apple.details()"
   ]
  },
  {
   "cell_type": "code",
   "execution_count": 28,
   "metadata": {},
   "outputs": [
    {
     "name": "stdout",
     "output_type": "stream",
     "text": [
      "John\n",
      "36\n"
     ]
    }
   ],
   "source": [
    "class Person:\n",
    "  def __init__(self, name, age):\n",
    "    self.name = name\n",
    "    self.age = age\n",
    "\n",
    "p1 = Person(\"John\", 36)\n",
    "\n",
    "print(p1.name)\n",
    "print(p1.age)"
   ]
  },
  {
   "cell_type": "code",
   "execution_count": 13,
   "metadata": {},
   "outputs": [
    {
     "name": "stdout",
     "output_type": "stream",
     "text": [
      "6765\n"
     ]
    }
   ],
   "source": [
    "n=20\n",
    "a=0\n",
    "b=1\n",
    "for i in range(n):\n",
    "    a,b = b,a+b\n",
    "print(a)"
   ]
  },
  {
   "cell_type": "code",
   "execution_count": 14,
   "metadata": {},
   "outputs": [
    {
     "name": "stdout",
     "output_type": "stream",
     "text": [
      "6765\n"
     ]
    }
   ],
   "source": [
    "def fib(n):\n",
    "    \n",
    "    a=0\n",
    "    b=1\n",
    "    for i in range(n):\n",
    "        a,b = b,a+b\n",
    "    return a\n",
    "\n",
    "fib_num = fib(20)\n",
    "print(fib_num)"
   ]
  },
  {
   "cell_type": "code",
   "execution_count": 15,
   "metadata": {},
   "outputs": [
    {
     "name": "stdout",
     "output_type": "stream",
     "text": [
      "6765\n",
      "0\n",
      "1\n",
      "1\n",
      "2\n",
      "3\n",
      "5\n",
      "8\n",
      "13\n",
      "21\n",
      "34\n",
      "55\n",
      "89\n",
      "144\n",
      "233\n",
      "377\n",
      "610\n",
      "987\n",
      "1597\n",
      "2584\n",
      "4181\n"
     ]
    }
   ],
   "source": [
    "def fib(n):\n",
    "    \n",
    "    a=0\n",
    "    b=1\n",
    "    for i in range(n):\n",
    "        a,b = b,a+b\n",
    "    return a\n",
    "\n",
    "fib_num = fib(20)\n",
    "print(fib_num)\n",
    "\n",
    "for i in range(20):\n",
    "    print(fib(i))"
   ]
  },
  {
   "cell_type": "code",
   "execution_count": null,
   "metadata": {},
   "outputs": [],
   "source": [
    "def fib_2(n):\n",
    "    if n == 0:\n",
    "        return 0\n",
    "    elif n == 1:\n",
    "        return 1\n",
    "    else:\n",
    "        return fib_2(n-1) + fib_2(n-2)\n",
    "    \n",
    "x = fib_2(10)\n",
    "print(x)\n"
   ]
  },
  {
   "cell_type": "code",
   "execution_count": null,
   "metadata": {},
   "outputs": [],
   "source": []
  },
  {
   "cell_type": "code",
   "execution_count": null,
   "metadata": {},
   "outputs": [],
   "source": []
  },
  {
   "cell_type": "code",
   "execution_count": null,
   "metadata": {},
   "outputs": [],
   "source": []
  }
 ],
 "metadata": {
  "kernelspec": {
   "display_name": "Python 3",
   "language": "python",
   "name": "python3"
  },
  "language_info": {
   "codemirror_mode": {
    "name": "ipython",
    "version": 3
   },
   "file_extension": ".py",
   "mimetype": "text/x-python",
   "name": "python",
   "nbconvert_exporter": "python",
   "pygments_lexer": "ipython3",
   "version": "3.8.5"
  }
 },
 "nbformat": 4,
 "nbformat_minor": 4
}
